{
 "cells": [
  {
   "cell_type": "code",
   "execution_count": 123,
   "metadata": {},
   "outputs": [
    {
     "name": "stdout",
     "output_type": "stream",
     "text": [
      "The autoreload extension is already loaded. To reload it, use:\n",
      "  %reload_ext autoreload\n"
     ]
    }
   ],
   "source": [
    "%load_ext autoreload"
   ]
  },
  {
   "cell_type": "code",
   "execution_count": 124,
   "metadata": {},
   "outputs": [],
   "source": [
    "import os\n",
    "import numpy as np\n",
    "import pandas as pd\n",
    "import json\n",
    "import matplotlib.pyplot as plt"
   ]
  },
  {
   "cell_type": "code",
   "execution_count": 125,
   "metadata": {},
   "outputs": [],
   "source": [
    "%autoreload\n",
    "import sys\n",
    "sys.path.insert(0,'../')\n",
    "from scripts.loader import *\n",
    "import mytools as tl"
   ]
  },
  {
   "cell_type": "code",
   "execution_count": 126,
   "metadata": {},
   "outputs": [],
   "source": [
    "data_path = os.path.join('..', 'Datasets', 'Interiors')\n",
    "resp_path = os.path.join(data_path, 'responses')\n",
    "subj_path = os.path.join(data_path, 'human_scanpaths')"
   ]
  },
  {
   "cell_type": "code",
   "execution_count": 127,
   "metadata": {},
   "outputs": [],
   "source": [
    "subjs = load_human_scanpaths(subj_path)"
   ]
  },
  {
   "cell_type": "code",
   "execution_count": 128,
   "metadata": {},
   "outputs": [
    {
     "data": {
      "text/plain": [
       "{'subject': '22',\n",
       " 'dataset': 'Interiors Dataset',\n",
       " 'image_height': 768,\n",
       " 'image_width': 1024,\n",
       " 'screen_height': 960,\n",
       " 'screen_width': 1280,\n",
       " 'receptive_height': 32,\n",
       " 'receptive_width': 32,\n",
       " 'target_found': False,\n",
       " 'target_bbox': [559, 228, 631, 300],\n",
       " 'X': [567.2,\n",
       "  415.6,\n",
       "  570.1,\n",
       "  715.7,\n",
       "  180.3,\n",
       "  1023.0,\n",
       "  970.4,\n",
       "  1023.0,\n",
       "  1004.0,\n",
       "  687.1,\n",
       "  338.8],\n",
       " 'Y': [487.3,\n",
       "  469.9,\n",
       "  694.3,\n",
       "  438.5,\n",
       "  578.7,\n",
       "  762.5,\n",
       "  583.9,\n",
       "  767.0,\n",
       "  456.4,\n",
       "  476.5,\n",
       "  406.4],\n",
       " 'T': [456, 231, 258, 484, 256, 132, 1423, 190, 346, 193, 221, 247],\n",
       " 'target_object': 'TBD',\n",
       " 'max_fixations': 13}"
      ]
     },
     "execution_count": 128,
     "metadata": {},
     "output_type": "execute_result"
    }
   ],
   "source": [
    "subjs[22]['grayscale_11_opensource.jpg']"
   ]
  },
  {
   "cell_type": "code",
   "execution_count": 129,
   "metadata": {},
   "outputs": [
    {
     "data": {
      "text/plain": [
       "subj                          fac\n",
       "response_x                    829\n",
       "response_y                   1119\n",
       "response_size                  11\n",
       "response_time_click      2.366613\n",
       "response_time_circle    24.016633\n",
       "Name: (22, grayscale_11_opensource.jpg), dtype: object"
      ]
     },
     "execution_count": 129,
     "metadata": {},
     "output_type": "execute_result"
    }
   ],
   "source": [
    "responses = pd.read_csv(os.path.join(resp_path, 'responses_data.csv')).set_index(['subj_id','image'])\n",
    "responses.loc[22,'grayscale_11_opensource.jpg']"
   ]
  },
  {
   "cell_type": "code",
   "execution_count": 130,
   "metadata": {},
   "outputs": [
    {
     "name": "stdout",
     "output_type": "stream",
     "text": [
      "subj_id: 41\n",
      "../Datasets/Interiors/human_scanpaths/subj41_scanpaths.json\n",
      "subj_id: 48\n",
      "../Datasets/Interiors/human_scanpaths/subj48_scanpaths.json\n",
      "subj_id: 51\n",
      "../Datasets/Interiors/human_scanpaths/subj51_scanpaths.json\n",
      "subj_id: 19\n",
      "../Datasets/Interiors/human_scanpaths/subj19_scanpaths.json\n",
      "subj_id: 22\n",
      "../Datasets/Interiors/human_scanpaths/subj22_scanpaths.json\n",
      "subj_id: 12\n",
      "../Datasets/Interiors/human_scanpaths/subj12_scanpaths.json\n",
      "subj_id: 20\n",
      "../Datasets/Interiors/human_scanpaths/subj20_scanpaths.json\n",
      "subj_id: 10\n",
      "../Datasets/Interiors/human_scanpaths/subj10_scanpaths.json\n",
      "subj_id: 17\n",
      "../Datasets/Interiors/human_scanpaths/subj17_scanpaths.json\n",
      "subj_id: 36\n",
      "../Datasets/Interiors/human_scanpaths/subj36_scanpaths.json\n",
      "subj_id: 42\n",
      "../Datasets/Interiors/human_scanpaths/subj42_scanpaths.json\n",
      "subj_id: 21\n",
      "../Datasets/Interiors/human_scanpaths/subj21_scanpaths.json\n",
      "subj_id: 23\n",
      "../Datasets/Interiors/human_scanpaths/subj23_scanpaths.json\n",
      "subj_id: 57\n",
      "../Datasets/Interiors/human_scanpaths/subj57_scanpaths.json\n",
      "subj_id: 55\n",
      "../Datasets/Interiors/human_scanpaths/subj55_scanpaths.json\n",
      "subj_id: 26\n",
      "../Datasets/Interiors/human_scanpaths/subj26_scanpaths.json\n",
      "subj_id: 30\n",
      "../Datasets/Interiors/human_scanpaths/subj30_scanpaths.json\n",
      "subj_id: 44\n",
      "../Datasets/Interiors/human_scanpaths/subj44_scanpaths.json\n",
      "subj_id: 11\n",
      "../Datasets/Interiors/human_scanpaths/subj11_scanpaths.json\n",
      "subj_id: 5\n",
      "../Datasets/Interiors/human_scanpaths/subj05_scanpaths.json\n",
      "subj_id: 34\n",
      "../Datasets/Interiors/human_scanpaths/subj34_scanpaths.json\n",
      "subj_id: 24\n",
      "../Datasets/Interiors/human_scanpaths/subj24_scanpaths.json\n",
      "subj_id: 32\n",
      "../Datasets/Interiors/human_scanpaths/subj32_scanpaths.json\n",
      "subj_id: 28\n",
      "../Datasets/Interiors/human_scanpaths/subj28_scanpaths.json\n",
      "subj_id: 52\n",
      "../Datasets/Interiors/human_scanpaths/subj52_scanpaths.json\n",
      "subj_id: 7\n",
      "../Datasets/Interiors/human_scanpaths/subj07_scanpaths.json\n",
      "subj_id: 3\n",
      "../Datasets/Interiors/human_scanpaths/subj03_scanpaths.json\n",
      "subj_id: 35\n",
      "../Datasets/Interiors/human_scanpaths/subj35_scanpaths.json\n",
      "subj_id: 13\n",
      "../Datasets/Interiors/human_scanpaths/subj13_scanpaths.json\n",
      "subj_id: 15\n",
      "../Datasets/Interiors/human_scanpaths/subj15_scanpaths.json\n",
      "subj_id: 4\n",
      "../Datasets/Interiors/human_scanpaths/subj04_scanpaths.json\n",
      "subj_id: 27\n",
      "../Datasets/Interiors/human_scanpaths/subj27_scanpaths.json\n",
      "subj_id: 25\n",
      "../Datasets/Interiors/human_scanpaths/subj25_scanpaths.json\n",
      "subj_id: 49\n",
      "../Datasets/Interiors/human_scanpaths/subj49_scanpaths.json\n",
      "subj_id: 9\n",
      "../Datasets/Interiors/human_scanpaths/subj09_scanpaths.json\n",
      "subj_id: 46\n",
      "../Datasets/Interiors/human_scanpaths/subj46_scanpaths.json\n",
      "subj_id: 37\n",
      "../Datasets/Interiors/human_scanpaths/subj37_scanpaths.json\n",
      "subj_id: 54\n",
      "../Datasets/Interiors/human_scanpaths/subj54_scanpaths.json\n",
      "subj_id: 18\n",
      "../Datasets/Interiors/human_scanpaths/subj18_scanpaths.json\n",
      "subj_id: 33\n",
      "../Datasets/Interiors/human_scanpaths/subj33_scanpaths.json\n",
      "subj_id: 14\n",
      "../Datasets/Interiors/human_scanpaths/subj14_scanpaths.json\n",
      "subj_id: 40\n",
      "../Datasets/Interiors/human_scanpaths/subj40_scanpaths.json\n",
      "subj_id: 56\n",
      "../Datasets/Interiors/human_scanpaths/subj56_scanpaths.json\n",
      "subj_id: 50\n",
      "../Datasets/Interiors/human_scanpaths/subj50_scanpaths.json\n",
      "subj_id: 43\n",
      "../Datasets/Interiors/human_scanpaths/subj43_scanpaths.json\n",
      "subj_id: 1\n",
      "../Datasets/Interiors/human_scanpaths/subj01_scanpaths.json\n",
      "subj_id: 39\n",
      "../Datasets/Interiors/human_scanpaths/subj39_scanpaths.json\n",
      "subj_id: 16\n",
      "../Datasets/Interiors/human_scanpaths/subj16_scanpaths.json\n",
      "subj_id: 31\n",
      "../Datasets/Interiors/human_scanpaths/subj31_scanpaths.json\n",
      "subj_id: 8\n",
      "../Datasets/Interiors/human_scanpaths/subj08_scanpaths.json\n",
      "subj_id: 2\n",
      "../Datasets/Interiors/human_scanpaths/subj02_scanpaths.json\n",
      "subj_id: 6\n",
      "../Datasets/Interiors/human_scanpaths/subj06_scanpaths.json\n",
      "subj_id: 45\n",
      "../Datasets/Interiors/human_scanpaths/subj45_scanpaths.json\n",
      "subj_id: 47\n",
      "../Datasets/Interiors/human_scanpaths/subj47_scanpaths.json\n",
      "subj_id: 53\n",
      "../Datasets/Interiors/human_scanpaths/subj53_scanpaths.json\n",
      "subj_id: 29\n",
      "../Datasets/Interiors/human_scanpaths/subj29_scanpaths.json\n",
      "subj_id: 38\n",
      "../Datasets/Interiors/human_scanpaths/subj38_scanpaths.json\n"
     ]
    }
   ],
   "source": [
    "tl.add_responses(subj_path, resp_path)"
   ]
  },
  {
   "cell_type": "code",
   "execution_count": null,
   "metadata": {},
   "outputs": [],
   "source": [
    "class Response():\n",
    "    def __init__(self, response_path, dataset_path):\n",
    "        self.response_path = response_path\n",
    "        self.dataset_path = dataset_path\n",
    "        \n",
    "    def load_from_json():\n",
    "        self."
   ]
  },
  {
   "cell_type": "code",
   "execution_count": null,
   "metadata": {},
   "outputs": [],
   "source": []
  }
 ],
 "metadata": {
  "kernelspec": {
   "display_name": "Python 3.8.8 ('base')",
   "language": "python",
   "name": "python3"
  },
  "language_info": {
   "codemirror_mode": {
    "name": "ipython",
    "version": 3
   },
   "file_extension": ".py",
   "mimetype": "text/x-python",
   "name": "python",
   "nbconvert_exporter": "python",
   "pygments_lexer": "ipython3",
   "version": "3.8.8"
  },
  "orig_nbformat": 4,
  "vscode": {
   "interpreter": {
    "hash": "c18f11b6be657996524caf5fa782642089185171ff5f6e295a3bf01a389f99eb"
   }
  }
 },
 "nbformat": 4,
 "nbformat_minor": 2
}
