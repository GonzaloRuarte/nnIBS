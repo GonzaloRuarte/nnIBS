{
 "cells": [
  {
   "cell_type": "code",
   "execution_count": 52,
   "metadata": {},
   "outputs": [
    {
     "name": "stdout",
     "output_type": "stream",
     "text": [
      "The autoreload extension is already loaded. To reload it, use:\n",
      "  %reload_ext autoreload\n"
     ]
    }
   ],
   "source": [
    "%load_ext autoreload"
   ]
  },
  {
   "cell_type": "code",
   "execution_count": 53,
   "metadata": {},
   "outputs": [],
   "source": [
    "import os\n",
    "import numpy as np\n",
    "import pandas as pd\n",
    "import json\n",
    "import matplotlib.pyplot as plt"
   ]
  },
  {
   "cell_type": "code",
   "execution_count": 54,
   "metadata": {},
   "outputs": [],
   "source": [
    "%autoreload\n",
    "import sys\n",
    "sys.path.insert(0,'../')\n",
    "from scripts.loader import *\n",
    "import mytools as tl"
   ]
  },
  {
   "cell_type": "code",
   "execution_count": 55,
   "metadata": {},
   "outputs": [],
   "source": [
    "data_path = os.path.join('..', 'Datasets', 'Interiors')\n",
    "resp_path = os.path.join(data_path, 'responses')\n",
    "subj_path = os.path.join(data_path, 'human_scanpaths')"
   ]
  },
  {
   "cell_type": "code",
   "execution_count": 56,
   "metadata": {},
   "outputs": [],
   "source": [
    "subjs = load_human_scanpaths(subj_path)"
   ]
  },
  {
   "cell_type": "code",
   "execution_count": 57,
   "metadata": {},
   "outputs": [],
   "source": [
    "#subjs[22]['grayscale_11_opensource.jpg']"
   ]
  },
  {
   "cell_type": "code",
   "execution_count": 58,
   "metadata": {},
   "outputs": [
    {
     "data": {
      "text/plain": [
       "subj                          fac\n",
       "response_x                    829\n",
       "response_y                   1119\n",
       "response_size                  11\n",
       "response_time_click      2.366613\n",
       "response_time_circle    24.016633\n",
       "Name: (22, grayscale_11_opensource.jpg), dtype: object"
      ]
     },
     "execution_count": 58,
     "metadata": {},
     "output_type": "execute_result"
    }
   ],
   "source": [
    "responses = pd.read_csv(os.path.join(resp_path, 'responses_data.csv')).set_index(['subj_id','image'])\n",
    "responses.loc[22,'grayscale_11_opensource.jpg']"
   ]
  },
  {
   "cell_type": "code",
   "execution_count": 59,
   "metadata": {},
   "outputs": [
    {
     "name": "stdout",
     "output_type": "stream",
     "text": [
      "subj_id: 41\n",
      "../Datasets/Interiors/human_scanpaths/subj41_scanpaths.json\n",
      "subj_id: 48\n",
      "../Datasets/Interiors/human_scanpaths/subj48_scanpaths.json\n",
      "subj_id: 51\n",
      "../Datasets/Interiors/human_scanpaths/subj51_scanpaths.json\n",
      "subj_id: 19\n",
      "../Datasets/Interiors/human_scanpaths/subj19_scanpaths.json\n",
      "subj_id: 22\n",
      "../Datasets/Interiors/human_scanpaths/subj22_scanpaths.json\n",
      "subj_id: 12\n",
      "../Datasets/Interiors/human_scanpaths/subj12_scanpaths.json\n",
      "subj_id: 20\n",
      "../Datasets/Interiors/human_scanpaths/subj20_scanpaths.json\n",
      "subj_id: 10\n",
      "../Datasets/Interiors/human_scanpaths/subj10_scanpaths.json\n",
      "subj_id: 17\n",
      "../Datasets/Interiors/human_scanpaths/subj17_scanpaths.json\n",
      "subj_id: 36\n",
      "../Datasets/Interiors/human_scanpaths/subj36_scanpaths.json\n",
      "subj_id: 42\n",
      "../Datasets/Interiors/human_scanpaths/subj42_scanpaths.json\n",
      "subj_id: 21\n",
      "../Datasets/Interiors/human_scanpaths/subj21_scanpaths.json\n",
      "subj_id: 23\n",
      "../Datasets/Interiors/human_scanpaths/subj23_scanpaths.json\n",
      "subj_id: 57\n",
      "../Datasets/Interiors/human_scanpaths/subj57_scanpaths.json\n",
      "subj_id: 55\n",
      "../Datasets/Interiors/human_scanpaths/subj55_scanpaths.json\n",
      "subj_id: 26\n",
      "../Datasets/Interiors/human_scanpaths/subj26_scanpaths.json\n",
      "subj_id: 30\n",
      "../Datasets/Interiors/human_scanpaths/subj30_scanpaths.json\n",
      "subj_id: 44\n",
      "../Datasets/Interiors/human_scanpaths/subj44_scanpaths.json\n",
      "subj_id: 11\n",
      "../Datasets/Interiors/human_scanpaths/subj11_scanpaths.json\n",
      "subj_id: 5\n",
      "../Datasets/Interiors/human_scanpaths/subj05_scanpaths.json\n",
      "subj_id: 34\n",
      "../Datasets/Interiors/human_scanpaths/subj34_scanpaths.json\n",
      "subj_id: 24\n",
      "../Datasets/Interiors/human_scanpaths/subj24_scanpaths.json\n",
      "subj_id: 32\n",
      "../Datasets/Interiors/human_scanpaths/subj32_scanpaths.json\n",
      "subj_id: 28\n",
      "../Datasets/Interiors/human_scanpaths/subj28_scanpaths.json\n",
      "subj_id: 52\n",
      "../Datasets/Interiors/human_scanpaths/subj52_scanpaths.json\n",
      "subj_id: 7\n",
      "../Datasets/Interiors/human_scanpaths/subj07_scanpaths.json\n",
      "subj_id: 3\n",
      "../Datasets/Interiors/human_scanpaths/subj03_scanpaths.json\n",
      "subj_id: 35\n",
      "../Datasets/Interiors/human_scanpaths/subj35_scanpaths.json\n",
      "subj_id: 13\n",
      "../Datasets/Interiors/human_scanpaths/subj13_scanpaths.json\n",
      "subj_id: 15\n",
      "../Datasets/Interiors/human_scanpaths/subj15_scanpaths.json\n",
      "subj_id: 4\n",
      "../Datasets/Interiors/human_scanpaths/subj04_scanpaths.json\n",
      "subj_id: 27\n",
      "../Datasets/Interiors/human_scanpaths/subj27_scanpaths.json\n",
      "subj_id: 25\n",
      "../Datasets/Interiors/human_scanpaths/subj25_scanpaths.json\n",
      "subj_id: 49\n",
      "../Datasets/Interiors/human_scanpaths/subj49_scanpaths.json\n",
      "subj_id: 9\n",
      "../Datasets/Interiors/human_scanpaths/subj09_scanpaths.json\n",
      "subj_id: 46\n",
      "../Datasets/Interiors/human_scanpaths/subj46_scanpaths.json\n",
      "subj_id: 37\n",
      "../Datasets/Interiors/human_scanpaths/subj37_scanpaths.json\n",
      "subj_id: 54\n",
      "../Datasets/Interiors/human_scanpaths/subj54_scanpaths.json\n",
      "subj_id: 18\n",
      "../Datasets/Interiors/human_scanpaths/subj18_scanpaths.json\n",
      "subj_id: 33\n",
      "../Datasets/Interiors/human_scanpaths/subj33_scanpaths.json\n",
      "subj_id: 14\n",
      "../Datasets/Interiors/human_scanpaths/subj14_scanpaths.json\n",
      "subj_id: 40\n",
      "../Datasets/Interiors/human_scanpaths/subj40_scanpaths.json\n",
      "subj_id: 56\n",
      "../Datasets/Interiors/human_scanpaths/subj56_scanpaths.json\n",
      "subj_id: 50\n",
      "../Datasets/Interiors/human_scanpaths/subj50_scanpaths.json\n",
      "subj_id: 43\n",
      "../Datasets/Interiors/human_scanpaths/subj43_scanpaths.json\n",
      "subj_id: 1\n",
      "../Datasets/Interiors/human_scanpaths/subj01_scanpaths.json\n",
      "subj_id: 39\n",
      "../Datasets/Interiors/human_scanpaths/subj39_scanpaths.json\n",
      "subj_id: 16\n",
      "../Datasets/Interiors/human_scanpaths/subj16_scanpaths.json\n",
      "subj_id: 31\n",
      "../Datasets/Interiors/human_scanpaths/subj31_scanpaths.json\n",
      "subj_id: 8\n",
      "../Datasets/Interiors/human_scanpaths/subj08_scanpaths.json\n",
      "subj_id: 2\n",
      "../Datasets/Interiors/human_scanpaths/subj02_scanpaths.json\n",
      "subj_id: 6\n",
      "../Datasets/Interiors/human_scanpaths/subj06_scanpaths.json\n",
      "subj_id: 45\n",
      "../Datasets/Interiors/human_scanpaths/subj45_scanpaths.json\n",
      "subj_id: 47\n",
      "../Datasets/Interiors/human_scanpaths/subj47_scanpaths.json\n",
      "subj_id: 53\n",
      "../Datasets/Interiors/human_scanpaths/subj53_scanpaths.json\n",
      "subj_id: 29\n",
      "../Datasets/Interiors/human_scanpaths/subj29_scanpaths.json\n",
      "subj_id: 38\n",
      "../Datasets/Interiors/human_scanpaths/subj38_scanpaths.json\n"
     ]
    }
   ],
   "source": [
    "# add responses\n",
    "tl.add_responses(subj_path, resp_path)"
   ]
  },
  {
   "cell_type": "code",
   "execution_count": 60,
   "metadata": {},
   "outputs": [],
   "source": [
    "class Response():\n",
    "    def __init__(self, response_path, dataset_path):\n",
    "        self.response_path = response_path\n",
    "        self.dataset_path = dataset_path\n",
    "        \n",
    "    def load_from_json():\n",
    "        pass"
   ]
  },
  {
   "cell_type": "code",
   "execution_count": 61,
   "metadata": {},
   "outputs": [],
   "source": [
    "subjs = load_human_scanpaths(os.path.join(resp_path, 'human_scanpaths'))\n",
    "#subjs[1]"
   ]
  },
  {
   "cell_type": "code",
   "execution_count": 62,
   "metadata": {},
   "outputs": [
    {
     "name": "stdout",
     "output_type": "stream",
     "text": [
      "Dimesions are OK, X: columns, Y: rows\n"
     ]
    }
   ],
   "source": [
    "tl.dimensions_check(subj_path)"
   ]
  },
  {
   "cell_type": "code",
   "execution_count": 140,
   "metadata": {},
   "outputs": [
    {
     "data": {
      "text/html": [
       "<div>\n",
       "<style scoped>\n",
       "    .dataframe tbody tr th:only-of-type {\n",
       "        vertical-align: middle;\n",
       "    }\n",
       "\n",
       "    .dataframe tbody tr th {\n",
       "        vertical-align: top;\n",
       "    }\n",
       "\n",
       "    .dataframe thead th {\n",
       "        text-align: right;\n",
       "    }\n",
       "</style>\n",
       "<table border=\"1\" class=\"dataframe\">\n",
       "  <thead>\n",
       "    <tr style=\"text-align: right;\">\n",
       "      <th></th>\n",
       "      <th>subj</th>\n",
       "      <th>img</th>\n",
       "      <th>max_fixations</th>\n",
       "      <th>target_found</th>\n",
       "      <th>target_found_response</th>\n",
       "      <th>response_size</th>\n",
       "      <th>distance_to_target</th>\n",
       "      <th>delta_time_response</th>\n",
       "      <th>response_x</th>\n",
       "      <th>response_y</th>\n",
       "    </tr>\n",
       "  </thead>\n",
       "  <tbody>\n",
       "    <tr>\n",
       "      <th>0</th>\n",
       "      <td>41</td>\n",
       "      <td>grayscale_11_opensource.jpg</td>\n",
       "      <td>13</td>\n",
       "      <td>False</td>\n",
       "      <td>False</td>\n",
       "      <td>29</td>\n",
       "      <td>311.313347</td>\n",
       "      <td>49.599536</td>\n",
       "      <td>415.0</td>\n",
       "      <td>518.0</td>\n",
       "    </tr>\n",
       "    <tr>\n",
       "      <th>1</th>\n",
       "      <td>41</td>\n",
       "      <td>grayscale_18_housebeautiful.jpg</td>\n",
       "      <td>9</td>\n",
       "      <td>False</td>\n",
       "      <td>False</td>\n",
       "      <td>47</td>\n",
       "      <td>289.587638</td>\n",
       "      <td>9.666707</td>\n",
       "      <td>506.0</td>\n",
       "      <td>552.0</td>\n",
       "    </tr>\n",
       "    <tr>\n",
       "      <th>2</th>\n",
       "      <td>41</td>\n",
       "      <td>grayscale_100_oliva.jpg</td>\n",
       "      <td>5</td>\n",
       "      <td>True</td>\n",
       "      <td>False</td>\n",
       "      <td>19</td>\n",
       "      <td>231.019480</td>\n",
       "      <td>5.633140</td>\n",
       "      <td>186.0</td>\n",
       "      <td>746.0</td>\n",
       "    </tr>\n",
       "    <tr>\n",
       "      <th>3</th>\n",
       "      <td>41</td>\n",
       "      <td>grayscale_17_oliva.jpg</td>\n",
       "      <td>3</td>\n",
       "      <td>False</td>\n",
       "      <td>False</td>\n",
       "      <td>35</td>\n",
       "      <td>342.947518</td>\n",
       "      <td>4.266648</td>\n",
       "      <td>284.0</td>\n",
       "      <td>465.0</td>\n",
       "    </tr>\n",
       "    <tr>\n",
       "      <th>4</th>\n",
       "      <td>41</td>\n",
       "      <td>grayscale_16_housebeautiful.jpg</td>\n",
       "      <td>3</td>\n",
       "      <td>False</td>\n",
       "      <td>False</td>\n",
       "      <td>19</td>\n",
       "      <td>601.838018</td>\n",
       "      <td>2.900187</td>\n",
       "      <td>410.0</td>\n",
       "      <td>794.0</td>\n",
       "    </tr>\n",
       "  </tbody>\n",
       "</table>\n",
       "</div>"
      ],
      "text/plain": [
       "   subj                              img  max_fixations  target_found  \\\n",
       "0    41      grayscale_11_opensource.jpg             13         False   \n",
       "1    41  grayscale_18_housebeautiful.jpg              9         False   \n",
       "2    41          grayscale_100_oliva.jpg              5          True   \n",
       "3    41           grayscale_17_oliva.jpg              3         False   \n",
       "4    41  grayscale_16_housebeautiful.jpg              3         False   \n",
       "\n",
       "   target_found_response  response_size  distance_to_target  \\\n",
       "0                  False             29          311.313347   \n",
       "1                  False             47          289.587638   \n",
       "2                  False             19          231.019480   \n",
       "3                  False             35          342.947518   \n",
       "4                  False             19          601.838018   \n",
       "\n",
       "   delta_time_response  response_x  response_y  \n",
       "0            49.599536       415.0       518.0  \n",
       "1             9.666707       506.0       552.0  \n",
       "2             5.633140       186.0       746.0  \n",
       "3             4.266648       284.0       465.0  \n",
       "4             2.900187       410.0       794.0  "
      ]
     },
     "execution_count": 140,
     "metadata": {},
     "output_type": "execute_result"
    }
   ],
   "source": [
    "responses_data = tl.get_responses_features(subjs)\n",
    "responses_data.head()"
   ]
  },
  {
   "cell_type": "code",
   "execution_count": 145,
   "metadata": {},
   "outputs": [
    {
     "data": {
      "text/plain": [
       "(3759, 1536)"
      ]
     },
     "execution_count": 145,
     "metadata": {},
     "output_type": "execute_result"
    }
   ],
   "source": [
    "responses_data.target_found.sum(), responses_data.target_found_response.sum() "
   ]
  },
  {
   "cell_type": "code",
   "execution_count": 146,
   "metadata": {},
   "outputs": [
    {
     "data": {
      "text/plain": [
       "(2775, 10)"
      ]
     },
     "execution_count": 146,
     "metadata": {},
     "output_type": "execute_result"
    }
   ],
   "source": [
    "# sanity check\n",
    "responses_data[(responses_data.target_found) & ~(responses_data.target_found_response)].shape"
   ]
  },
  {
   "cell_type": "code",
   "execution_count": 144,
   "metadata": {},
   "outputs": [
    {
     "data": {
      "image/png": "[encoded data removed]",
      "text/plain": [
       "<Figure size 1080x720 with 6 Axes>"
      ]
     },
     "metadata": {
      "needs_background": "light"
     },
     "output_type": "display_data"
    }
   ],
   "source": [
    "responses_data.loc[:,responses_data.columns!='subj'].hist(figsize=(15,10), bins=15);"
   ]
  },
  {
   "cell_type": "code",
   "execution_count": null,
   "metadata": {},
   "outputs": [],
   "source": []
  }
 ],
 "metadata": {
  "kernelspec": {
   "display_name": "Python 3.8.8 ('base')",
   "language": "python",
   "name": "python3"
  },
  "language_info": {
   "codemirror_mode": {
    "name": "ipython",
    "version": 3
   },
   "file_extension": ".py",
   "mimetype": "text/x-python",
   "name": "python",
   "nbconvert_exporter": "python",
   "pygments_lexer": "ipython3",
   "version": "3.8.8"
  },
  "orig_nbformat": 4,
  "vscode": {
   "interpreter": {
    "hash": "c18f11b6be657996524caf5fa782642089185171ff5f6e295a3bf01a389f99eb"
   }
  }
 },
 "nbformat": 4,
 "nbformat_minor": 2
}
