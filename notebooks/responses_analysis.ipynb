{
 "cells": [
  {
   "cell_type": "code",
   "execution_count": 1,
   "metadata": {},
   "outputs": [],
   "source": [
    "%load_ext autoreload"
   ]
  },
  {
   "cell_type": "code",
   "execution_count": 39,
   "metadata": {},
   "outputs": [],
   "source": [
    "import os\n",
    "import numpy as np\n",
    "import pandas as pd\n",
    "import json\n",
    "import matplotlib.pyplot as plt"
   ]
  },
  {
   "cell_type": "code",
   "execution_count": 40,
   "metadata": {},
   "outputs": [],
   "source": [
    "%autoreload\n",
    "import sys\n",
    "sys.path.insert(0,'../')\n",
    "from scripts.loader import *"
   ]
  },
  {
   "cell_type": "code",
   "execution_count": 44,
   "metadata": {},
   "outputs": [],
   "source": [
    "data_path = os.path.join('..', 'Datasets', 'Interiors')\n",
    "resp_path = os.path.join(data_path, 'responses')\n",
    "subj_path = os.path.join(data_path, 'human_scanpaths')"
   ]
  },
  {
   "cell_type": "code",
   "execution_count": 42,
   "metadata": {},
   "outputs": [],
   "source": [
    "subjs = load_human_scanpaths(subj_path)"
   ]
  },
  {
   "cell_type": "code",
   "execution_count": 45,
   "metadata": {},
   "outputs": [],
   "source": [
    "responses = pd.read_csv(os.path.join(resp_path, 'responses_data.csv'))"
   ]
  },
  {
   "cell_type": "code",
   "execution_count": 46,
   "metadata": {},
   "outputs": [
    {
     "data": {
      "text/html": [
       "<div>\n",
       "<style scoped>\n",
       "    .dataframe tbody tr th:only-of-type {\n",
       "        vertical-align: middle;\n",
       "    }\n",
       "\n",
       "    .dataframe tbody tr th {\n",
       "        vertical-align: top;\n",
       "    }\n",
       "\n",
       "    .dataframe thead th {\n",
       "        text-align: right;\n",
       "    }\n",
       "</style>\n",
       "<table border=\"1\" class=\"dataframe\">\n",
       "  <thead>\n",
       "    <tr style=\"text-align: right;\">\n",
       "      <th></th>\n",
       "      <th>subj</th>\n",
       "      <th>subj_id</th>\n",
       "      <th>image</th>\n",
       "      <th>response_x</th>\n",
       "      <th>response_y</th>\n",
       "      <th>response_size</th>\n",
       "      <th>response_time_click</th>\n",
       "      <th>response_time_circle</th>\n",
       "      <th>Unnamed: 8</th>\n",
       "    </tr>\n",
       "  </thead>\n",
       "  <tbody>\n",
       "    <tr>\n",
       "      <th>0</th>\n",
       "      <td>AFR</td>\n",
       "      <td>1</td>\n",
       "      <td>grayscale_11_opensource.jpg</td>\n",
       "      <td>591</td>\n",
       "      <td>354</td>\n",
       "      <td>17</td>\n",
       "      <td>9.4001</td>\n",
       "      <td>18.217</td>\n",
       "      <td>NaN</td>\n",
       "    </tr>\n",
       "    <tr>\n",
       "      <th>1</th>\n",
       "      <td>subj</td>\n",
       "      <td>subj_id</td>\n",
       "      <td>image</td>\n",
       "      <td>response_x</td>\n",
       "      <td>response_y</td>\n",
       "      <td>response_size</td>\n",
       "      <td>response_time_click</td>\n",
       "      <td>response_time_circle</td>\n",
       "      <td>NaN</td>\n",
       "    </tr>\n",
       "    <tr>\n",
       "      <th>2</th>\n",
       "      <td>AFR</td>\n",
       "      <td>1</td>\n",
       "      <td>grayscale_18_housebeautiful.jpg</td>\n",
       "      <td>503</td>\n",
       "      <td>936</td>\n",
       "      <td>15</td>\n",
       "      <td>3.7336</td>\n",
       "      <td>10.7335</td>\n",
       "      <td>NaN</td>\n",
       "    </tr>\n",
       "    <tr>\n",
       "      <th>3</th>\n",
       "      <td>subj</td>\n",
       "      <td>subj_id</td>\n",
       "      <td>image</td>\n",
       "      <td>response_x</td>\n",
       "      <td>response_y</td>\n",
       "      <td>response_size</td>\n",
       "      <td>response_time_click</td>\n",
       "      <td>response_time_circle</td>\n",
       "      <td>NaN</td>\n",
       "    </tr>\n",
       "    <tr>\n",
       "      <th>4</th>\n",
       "      <td>AFR</td>\n",
       "      <td>1</td>\n",
       "      <td>grayscale_100_oliva.jpg</td>\n",
       "      <td>515</td>\n",
       "      <td>859</td>\n",
       "      <td>9</td>\n",
       "      <td>2.4502</td>\n",
       "      <td>5.9837</td>\n",
       "      <td>NaN</td>\n",
       "    </tr>\n",
       "  </tbody>\n",
       "</table>\n",
       "</div>"
      ],
      "text/plain": [
       "   subj  subj_id                            image  response_x  response_y  \\\n",
       "0   AFR        1      grayscale_11_opensource.jpg         591         354   \n",
       "1  subj  subj_id                            image  response_x  response_y   \n",
       "2   AFR        1  grayscale_18_housebeautiful.jpg         503         936   \n",
       "3  subj  subj_id                            image  response_x  response_y   \n",
       "4   AFR        1          grayscale_100_oliva.jpg         515         859   \n",
       "\n",
       "   response_size  response_time_click  response_time_circle  Unnamed: 8  \n",
       "0             17               9.4001                18.217         NaN  \n",
       "1  response_size  response_time_click  response_time_circle         NaN  \n",
       "2             15               3.7336               10.7335         NaN  \n",
       "3  response_size  response_time_click  response_time_circle         NaN  \n",
       "4              9               2.4502                5.9837         NaN  "
      ]
     },
     "execution_count": 46,
     "metadata": {},
     "output_type": "execute_result"
    }
   ],
   "source": [
    "responses.head()"
   ]
  },
  {
   "cell_type": "code",
   "execution_count": null,
   "metadata": {},
   "outputs": [],
   "source": [
    "\n",
    "class Response():\n",
    "    def __init__(self, response_type, response_value):\n",
    "        self.response_type = response_type\n",
    "        self.response_value = response_value"
   ]
  },
  {
   "cell_type": "code",
   "execution_count": null,
   "metadata": {},
   "outputs": [],
   "source": []
  }
 ],
 "metadata": {
  "kernelspec": {
   "display_name": "Python 3.8.8 ('base')",
   "language": "python",
   "name": "python3"
  },
  "language_info": {
   "codemirror_mode": {
    "name": "ipython",
    "version": 3
   },
   "file_extension": ".py",
   "mimetype": "text/x-python",
   "name": "python",
   "nbconvert_exporter": "python",
   "pygments_lexer": "ipython3",
   "version": "3.8.8"
  },
  "orig_nbformat": 4,
  "vscode": {
   "interpreter": {
    "hash": "c18f11b6be657996524caf5fa782642089185171ff5f6e295a3bf01a389f99eb"
   }
  }
 },
 "nbformat": 4,
 "nbformat_minor": 2
}
